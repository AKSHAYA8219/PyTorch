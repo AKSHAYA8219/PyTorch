{
  "nbformat": 4,
  "nbformat_minor": 0,
  "metadata": {
    "colab": {
      "name": "simple_neural_network.ipynb",
      "version": "0.3.2",
      "provenance": []
    },
    "kernelspec": {
      "name": "python3",
      "display_name": "Python 3"
    }
  },
  "cells": [
    {
      "metadata": {
        "id": "3T83nPClBT3t",
        "colab_type": "text"
      },
      "cell_type": "markdown",
      "source": [
        "Simple neural network using PyTorch"
      ]
    },
    {
      "metadata": {
        "id": "DEV_yizUq0EQ",
        "colab_type": "code",
        "colab": {}
      },
      "cell_type": "code",
      "source": [
        "# import pytorch\n",
        "import torch"
      ],
      "execution_count": 0,
      "outputs": []
    },
    {
      "metadata": {
        "id": "X65xU-D2q5-4",
        "colab_type": "code",
        "colab": {}
      },
      "cell_type": "code",
      "source": [
        "def activation(x):\n",
        "  # Sigmoid activation function\n",
        "  return 1/(1+torch.exp(-x))"
      ],
      "execution_count": 0,
      "outputs": []
    },
    {
      "metadata": {
        "id": "jMLVjgyiri87",
        "colab_type": "code",
        "colab": {}
      },
      "cell_type": "code",
      "source": [
        "# Generating some data\n",
        "\n",
        "# Set the random seed so the things are predictable\n",
        "torch.manual_seed(7)\n",
        "\n",
        "# Features are 5 random normal variables\n",
        "features = torch.randn((1,5))  # Tensor of size (1,5)\n",
        "\n",
        "# Weights for our data, random normal variables again\n",
        "weights = torch.randn_like(features)  # Creates a tensor 'weights' with the same shape of the tensor 'features'\n",
        "\n",
        "# Bias term\n",
        "bias = torch.randn((1,1))"
      ],
      "execution_count": 0,
      "outputs": []
    },
    {
      "metadata": {
        "id": "dkpJzs9c8Wt9",
        "colab_type": "code",
        "outputId": "2849d761-cddf-4ce1-c22a-5d95e3b551ff",
        "colab": {
          "base_uri": "https://localhost:8080/",
          "height": 70
        }
      },
      "cell_type": "code",
      "source": [
        "print(\"features : \",features)\n",
        "print(\"weights : \",weights)\n",
        "print(\"bias : \",bias)"
      ],
      "execution_count": 14,
      "outputs": [
        {
          "output_type": "stream",
          "text": [
            "features :  tensor([[-0.1468,  0.7861,  0.9468, -1.1143,  1.6908]])\n",
            "weights :  tensor([[-0.8948, -0.3556,  1.2324,  0.1382, -1.6822]])\n",
            "bias :  tensor([[0.3177]])\n"
          ],
          "name": "stdout"
        }
      ]
    },
    {
      "metadata": {
        "id": "bqmbhX0Fu2sv",
        "colab_type": "code",
        "colab": {}
      },
      "cell_type": "code",
      "source": [
        "# torch.mm - matrix multiplication\n",
        "# weights.view(a,b) - to reshape weights\n",
        "\n",
        "y=activation(torch.mm(features,weights.view(5,1))+bias)"
      ],
      "execution_count": 0,
      "outputs": []
    }
  ]
}